{
 "cells": [
  {
   "cell_type": "markdown",
   "metadata": {},
   "source": [
    "# 必要なモジュールのインストール"
   ]
  },
  {
   "cell_type": "code",
   "execution_count": 1,
   "metadata": {},
   "outputs": [],
   "source": [
    "# %%bash\n",
    "# pip install spacy ginza"
   ]
  },
  {
   "cell_type": "code",
   "execution_count": 2,
   "metadata": {},
   "outputs": [],
   "source": [
    "# %%bash\n",
    "# pip install sudachipy sudachidict_core"
   ]
  },
  {
   "cell_type": "code",
   "execution_count": 3,
   "metadata": {},
   "outputs": [],
   "source": [
    "from sudachipy import tokenizer\n",
    "from sudachipy import dictionary\n",
    "tokenizer_obj = dictionary.Dictionary().create()"
   ]
  },
  {
   "cell_type": "code",
   "execution_count": 4,
   "metadata": {},
   "outputs": [
    {
     "name": "stdout",
     "output_type": "stream",
     "text": [
      "トンネル ['名詞', '普通名詞', 'サ変可能', '*', '*', '*']\n",
      "を ['助詞', '格助詞', '*', '*', '*', '*']\n",
      "抜ける ['動詞', '非自立可能', '*', '*', '下一段-カ行', '終止形-一般']\n",
      "と ['助詞', '接続助詞', '*', '*', '*', '*']\n",
      "雪国 ['名詞', '普通名詞', '一般', '*', '*', '*']\n",
      "だっ ['助動詞', '*', '*', '*', '助動詞-ダ', '連用形-促音便']\n",
      "た ['助動詞', '*', '*', '*', '助動詞-タ', '終止形-一般']\n",
      "。 ['補助記号', '句点', '*', '*', '*', '*']\n"
     ]
    }
   ],
   "source": [
    "for token in tokenizer_obj.tokenize(\"トンネルを抜けると雪国だった。\"):\n",
    "    print(token.surface(), token.part_of_speech())"
   ]
  },
  {
   "cell_type": "markdown",
   "metadata": {},
   "source": [
    "# データのダウンロード"
   ]
  },
  {
   "cell_type": "code",
   "execution_count": 5,
   "metadata": {},
   "outputs": [
    {
     "name": "stderr",
     "output_type": "stream",
     "text": [
      "  % Total    % Received % Xferd  Average Speed   Time    Time     Time  Current\n",
      "                                 Dload  Upload   Total   Spent    Left  Speed\n",
      "\r",
      "  0     0    0     0    0     0      0      0 --:--:-- --:--:-- --:--:--     0\r",
      "  0     0    0     0    0     0      0      0 --:--:-- --:--:-- --:--:--     0\r",
      " 16 9264k   16 1560k    0     0  1359k      0  0:00:06  0:00:01  0:00:05 1357k\r",
      " 86 9264k   86 8040k    0     0  3743k      0  0:00:02  0:00:02 --:--:-- 3741k\r",
      "100 9264k  100 9264k    0     0  3792k      0  0:00:02  0:00:02 --:--:-- 3790k\n"
     ]
    }
   ],
   "source": [
    "%%bash\n",
    "# WRIME: 主観と客観の感情分析データセット https://github.com/ids-cv/wrime\n",
    "curl -o ../data/wrime.tsv https://raw.githubusercontent.com/ids-cv/wrime/master/wrime.tsv"
   ]
  },
  {
   "cell_type": "code",
   "execution_count": 6,
   "metadata": {},
   "outputs": [],
   "source": [
    "from sklearn.model_selection import train_test_split\n",
    "import numpy as np\n",
    "from sklearn.ensemble import RandomForestRegressor, RandomForestClassifier"
   ]
  },
  {
   "cell_type": "code",
   "execution_count": 63,
   "metadata": {},
   "outputs": [],
   "source": [
    "import pandas as pd\n",
    "import spacy\n",
    "nlp = spacy.load('ja_ginza')"
   ]
  },
  {
   "cell_type": "code",
   "execution_count": 67,
   "metadata": {},
   "outputs": [],
   "source": [
    "doc = nlp(\"トンネルを抜けるとそこは雪国でした\")"
   ]
  },
  {
   "cell_type": "code",
   "execution_count": 76,
   "metadata": {},
   "outputs": [
    {
     "name": "stdout",
     "output_type": "stream",
     "text": [
      "トンネル \t [-0.14804362 -0.01284575  0.18524638]\n",
      "を \t [-0.19509408 -0.13202968 -0.01801249]\n",
      "抜ける \t [0. 0. 0.]\n",
      "と \t [-0.07328872 -0.11246356 -0.06079749]\n",
      "そこ \t [0. 0. 0.]\n",
      "は \t [-0.05035316 -0.15731327 -0.08336552]\n",
      "雪国 \t [ 0.14457944 -0.04334065  0.07879572]\n",
      "でし \t [ 0.09235096 -0.15087031  0.04086336]\n",
      "た \t [-0.03423065 -0.15928707  0.00305681]\n"
     ]
    }
   ],
   "source": [
    "for token in doc:\n",
    "    print(token, \"\\t\", token.vector[:3])"
   ]
  },
  {
   "cell_type": "code",
   "execution_count": 81,
   "metadata": {},
   "outputs": [
    {
     "data": {
      "text/plain": [
       "array([-0.0293422 , -0.08535002,  0.01619853], dtype=float32)"
      ]
     },
     "execution_count": 81,
     "metadata": {},
     "output_type": "execute_result"
    }
   ],
   "source": [
    "doc.vector[:3]"
   ]
  },
  {
   "cell_type": "code",
   "execution_count": 64,
   "metadata": {},
   "outputs": [],
   "source": [
    "df = pd.read_csv(\"../data/wrime.tsv\", sep='\\t')"
   ]
  },
  {
   "cell_type": "code",
   "execution_count": 65,
   "metadata": {},
   "outputs": [],
   "source": [
    "# (1) `Avg. Readers_Joy` が0より上、あるいは `Avg. Readers_Sadness` が0より上なデータだけに限定\n",
    "df = df[(df['Avg. Readers_Joy'] > 0) | (df['Avg. Readers_Sadness'] > 0)]\n",
    "# (2) 'Avg. Readers_Joy' - `Avg. Readers_Sadness` を行い、1つの値にする\n",
    "# 例) 喜びの平均3、悲しみの平均1のときには 3 - 1 = 2となる。\n",
    "df['JoySadness'] = df['Avg. Readers_Joy'] - df['Avg. Readers_Sadness']\n",
    "# (3) その値が0より上であれば\"ポジティブ\"、0以下であれば\"ネガティブ\"になるようにする\n",
    "df['PosiNega'] = np.where(df['JoySadness'] > 0, \"ポジティブ\", \"ネガティブ\")\n",
    "# (4) `Sentence` と `PosiNega` だけを用いるのでカラムを限定\n",
    "df = df[['Sentence', 'PosiNega']]\n",
    "# (5) 先頭の10000行に限定\n",
    "df = df.head(10000)"
   ]
  },
  {
   "cell_type": "code",
   "execution_count": 66,
   "metadata": {},
   "outputs": [
    {
     "data": {
      "text/html": [
       "<div>\n",
       "<style scoped>\n",
       "    .dataframe tbody tr th:only-of-type {\n",
       "        vertical-align: middle;\n",
       "    }\n",
       "\n",
       "    .dataframe tbody tr th {\n",
       "        vertical-align: top;\n",
       "    }\n",
       "\n",
       "    .dataframe thead th {\n",
       "        text-align: right;\n",
       "    }\n",
       "</style>\n",
       "<table border=\"1\" class=\"dataframe\">\n",
       "  <thead>\n",
       "    <tr style=\"text-align: right;\">\n",
       "      <th></th>\n",
       "      <th>Sentence</th>\n",
       "      <th>PosiNega</th>\n",
       "    </tr>\n",
       "  </thead>\n",
       "  <tbody>\n",
       "    <tr>\n",
       "      <th>0</th>\n",
       "      <td>ぼけっとしてたらこんな時間｡チャリあるから食べにでたいのに…</td>\n",
       "      <td>ネガティブ</td>\n",
       "    </tr>\n",
       "    <tr>\n",
       "      <th>1</th>\n",
       "      <td>今日の月も白くて明るい。昨日より雲が少なくてキレイな? と立ち止まる帰り道｡チャリなし生活も...</td>\n",
       "      <td>ポジティブ</td>\n",
       "    </tr>\n",
       "    <tr>\n",
       "      <th>3</th>\n",
       "      <td>眠い、眠れない。</td>\n",
       "      <td>ネガティブ</td>\n",
       "    </tr>\n",
       "    <tr>\n",
       "      <th>4</th>\n",
       "      <td>ただいま? って新体操してるやん!外食する気満々で家に何もないのに!テレビから離れられない…!</td>\n",
       "      <td>ポジティブ</td>\n",
       "    </tr>\n",
       "    <tr>\n",
       "      <th>5</th>\n",
       "      <td>表情筋が衰えてきてる｡まずいな…</td>\n",
       "      <td>ネガティブ</td>\n",
       "    </tr>\n",
       "  </tbody>\n",
       "</table>\n",
       "</div>"
      ],
      "text/plain": [
       "                                            Sentence PosiNega\n",
       "0                     ぼけっとしてたらこんな時間｡チャリあるから食べにでたいのに…    ネガティブ\n",
       "1  今日の月も白くて明るい。昨日より雲が少なくてキレイな? と立ち止まる帰り道｡チャリなし生活も...    ポジティブ\n",
       "3                                           眠い、眠れない。    ネガティブ\n",
       "4    ただいま? って新体操してるやん!外食する気満々で家に何もないのに!テレビから離れられない…!    ポジティブ\n",
       "5                                   表情筋が衰えてきてる｡まずいな…    ネガティブ"
      ]
     },
     "execution_count": 66,
     "metadata": {},
     "output_type": "execute_result"
    }
   ],
   "source": [
    "df.head(5)"
   ]
  },
  {
   "cell_type": "code",
   "execution_count": 13,
   "metadata": {},
   "outputs": [],
   "source": [
    "vectors = []\n",
    "for i, sentence in df['Sentence'].iteritems():\n",
    "    doc = nlp(sentence)\n",
    "    vectors.append(doc.vector)"
   ]
  },
  {
   "cell_type": "code",
   "execution_count": 47,
   "metadata": {},
   "outputs": [],
   "source": [
    "X = vectors\n",
    "y = df['PosiNega'].map({0: \"ネガティブ\", 1: \"ポジティブ\"})"
   ]
  },
  {
   "cell_type": "code",
   "execution_count": 48,
   "metadata": {},
   "outputs": [],
   "source": [
    "X_train, X_test, y_train, y_test = train_test_split(X, y, test_size=0.4)"
   ]
  },
  {
   "cell_type": "code",
   "execution_count": 49,
   "metadata": {},
   "outputs": [],
   "source": [
    "clf = RandomForestClassifier()"
   ]
  },
  {
   "cell_type": "code",
   "execution_count": 50,
   "metadata": {},
   "outputs": [],
   "source": [
    "clf.fit(X_train, y_train);"
   ]
  },
  {
   "cell_type": "code",
   "execution_count": 51,
   "metadata": {
    "scrolled": true
   },
   "outputs": [
    {
     "data": {
      "text/plain": [
       "0.998"
      ]
     },
     "execution_count": 51,
     "metadata": {},
     "output_type": "execute_result"
    }
   ],
   "source": [
    "clf.score(X_train, y_train)"
   ]
  },
  {
   "cell_type": "code",
   "execution_count": 52,
   "metadata": {},
   "outputs": [
    {
     "data": {
      "text/plain": [
       "0.74025"
      ]
     },
     "execution_count": 52,
     "metadata": {},
     "output_type": "execute_result"
    }
   ],
   "source": [
    "clf.score(X_test, y_test)"
   ]
  },
  {
   "cell_type": "code",
   "execution_count": 53,
   "metadata": {},
   "outputs": [],
   "source": [
    "from joblib import dump, load"
   ]
  },
  {
   "cell_type": "code",
   "execution_count": 54,
   "metadata": {},
   "outputs": [
    {
     "data": {
      "text/plain": [
       "['../models/classify_review.joblib']"
      ]
     },
     "execution_count": 54,
     "metadata": {},
     "output_type": "execute_result"
    }
   ],
   "source": [
    "dump(clf, '../models/classify_review.joblib') "
   ]
  },
  {
   "cell_type": "code",
   "execution_count": 55,
   "metadata": {},
   "outputs": [],
   "source": [
    "estimator = load('../models/classify_review.joblib')"
   ]
  },
  {
   "cell_type": "code",
   "execution_count": 59,
   "metadata": {
    "scrolled": true
   },
   "outputs": [
    {
     "data": {
      "text/plain": [
       "array(['ネガティブ'], dtype=object)"
      ]
     },
     "execution_count": 59,
     "metadata": {},
     "output_type": "execute_result"
    }
   ],
   "source": [
    "estimator.predict([doc.vector])"
   ]
  },
  {
   "cell_type": "code",
   "execution_count": null,
   "metadata": {},
   "outputs": [],
   "source": []
  },
  {
   "cell_type": "code",
   "execution_count": null,
   "metadata": {},
   "outputs": [],
   "source": []
  },
  {
   "cell_type": "code",
   "execution_count": null,
   "metadata": {},
   "outputs": [],
   "source": []
  }
 ],
 "metadata": {
  "kernelspec": {
   "display_name": "Python 3",
   "language": "python",
   "name": "python3"
  },
  "language_info": {
   "codemirror_mode": {
    "name": "ipython",
    "version": 3
   },
   "file_extension": ".py",
   "mimetype": "text/x-python",
   "name": "python",
   "nbconvert_exporter": "python",
   "pygments_lexer": "ipython3",
   "version": "3.8.2"
  }
 },
 "nbformat": 4,
 "nbformat_minor": 4
}
