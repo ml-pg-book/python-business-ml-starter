{
 "cells": [
  {
   "cell_type": "code",
   "execution_count": 3,
   "metadata": {},
   "outputs": [
    {
     "name": "stdout",
     "output_type": "stream",
     "text": [
      "Best params {'C': 1, 'kernel': 'linear'}\n",
      "Best score 0.9800000000000001\n"
     ]
    }
   ],
   "source": [
    "# 必要なライブラリとデータセットをインポートします\n",
    "from sklearn import svm, datasets\n",
    "from sklearn.model_selection import GridSearchCV\n",
    "\n",
    "# irisデータセットをロードします\n",
    "iris = datasets.load_iris()\n",
    "\n",
    "# Grid Searchで検証したいパラメータの組み合わせを指定します\n",
    "parameters = {'kernel':('linear', 'rbf'), 'C':[1, 10]}\n",
    "\n",
    "# SVMのモデルを初期化します\n",
    "svc = svm.SVC()\n",
    "\n",
    "# Grid Searchを行うオブジェクトを作成します。このとき、使用するモデル(svc)とパラメータ(parameters)を指定します\n",
    "cv = GridSearchCV(svc, parameters)\n",
    "\n",
    "# Grid Searchを実行します。このとき、データ(iris.data)とそのラベル(iris.target)を指定してfitメソッドを呼び出します\n",
    "cv.fit(iris.data, iris.target)\n",
    "\n",
    "# 最も良いスコアを出したパラメータの組み合わせを表示します\n",
    "print(\"Best params\", cv.best_params_)\n",
    "# 最も良いスコアを表示します\n",
    "print(\"Best score\", cv.best_score_)"
   ]
  },
  {
   "cell_type": "code",
   "execution_count": null,
   "metadata": {},
   "outputs": [],
   "source": [
    "# 必要なライブラリとデータセットをインポートします\n",
    "from sklearn.datasets import load_iris\n",
    "from sklearn.linear_model import LogisticRegression\n",
    "from sklearn.model_selection import RandomizedSearchCV\n",
    "from scipy.stats import uniform\n",
    "\n",
    "# irisデータセットをロードします\n",
    "iris = load_iris()\n",
    "\n",
    "# ロジスティック回帰のモデルを初期化します。いくつかのパラメータ（solver, tol, max_iter, random_state）が設定されています\n",
    "logistic = LogisticRegression(solver='saga', tol=1e-2, max_iter=200, random_state=0)\n",
    "\n",
    "# ランダムサーチで検証したいパラメータの分布やリストを指定します\n",
    "distributions = dict(C=uniform(loc=0, scale=4), penalty=['l2', 'l1'])\n",
    "\n",
    "# ランダムサーチを行うオブジェクトを作成します。このとき、使用するモデル(logistic)とパラメータの分布(distributions)を指定します\n",
    "cv = RandomizedSearchCV(logistic, distributions, random_state=0)\n",
    "\n",
    "# ランダムサーチを実行します。このとき、データ(iris.data)とそのラベル(iris.target)を指定してfitメソッドを呼び出します\n",
    "search = cv.fit(iris.data, iris.target)\n",
    "\n",
    "# 最も良いスコアを出したパラメータの組み合わせを表示します\n",
    "print(\"Best params\", cv.best_params_)\n",
    "# 最も良いスコアを表示します\n",
    "print(\"Best score\", cv.best_score_)"
   ]
  }
 ],
 "metadata": {
  "kernelspec": {
   "display_name": "Python 3",
   "language": "python",
   "name": "python3"
  },
  "language_info": {
   "codemirror_mode": {
    "name": "ipython",
    "version": 3
   },
   "file_extension": ".py",
   "mimetype": "text/x-python",
   "name": "python",
   "nbconvert_exporter": "python",
   "pygments_lexer": "ipython3",
   "version": "3.11.0"
  },
  "orig_nbformat": 4
 },
 "nbformat": 4,
 "nbformat_minor": 2
}
