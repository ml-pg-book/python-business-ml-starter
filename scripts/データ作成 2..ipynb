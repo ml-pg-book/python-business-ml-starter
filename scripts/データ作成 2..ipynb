{
 "cells": [
  {
   "cell_type": "code",
   "execution_count": 2,
   "metadata": {},
   "outputs": [],
   "source": [
    "import pandas as pd\n",
    "import numpy as np"
   ]
  },
  {
   "cell_type": "code",
   "execution_count": 6,
   "metadata": {},
   "outputs": [],
   "source": [
    "n = 100"
   ]
  },
  {
   "cell_type": "code",
   "execution_count": 17,
   "metadata": {},
   "outputs": [],
   "source": [
    "weathers = [\"晴れ\", \"曇り\", \"雨\"]\n",
    "weekdays = [\"月\", \"火\", \"水\", \"木\", \"金\", \"土\", \"日\"]\n",
    "holidays = [True, False]"
   ]
  },
  {
   "cell_type": "code",
   "execution_count": 18,
   "metadata": {},
   "outputs": [],
   "source": [
    "df = pd.DataFrame({\n",
    "    \"天気\": [weathers[i] for i in np.random.randint(0, len(weathers), n)],\n",
    "    \"気温\": np.random.normal(25, 10, n),\n",
    "    \"曜日\": [weekdays[i] for i in np.random.randint(0, len(weekdays), n)]\n",
    "})"
   ]
  },
  {
   "cell_type": "code",
   "execution_count": 30,
   "metadata": {},
   "outputs": [],
   "source": [
    "df['売上数'] = (\n",
    "    df['気温'] * 10 +\n",
    "    df['天気'].map({\"晴れ\": 1, \"曇り\": 0, \"雨\": -1}) * 5 +\n",
    "    df['曜日'].isin([\"土\", \"日\"]) * 5 +\n",
    "    np.random.normal(50, 50, n)\n",
    ").astype(int)"
   ]
  },
  {
   "cell_type": "code",
   "execution_count": null,
   "metadata": {},
   "outputs": [],
   "source": []
  }
 ],
 "metadata": {
  "kernelspec": {
   "display_name": "Python 3",
   "language": "python",
   "name": "python3"
  },
  "language_info": {
   "codemirror_mode": {
    "name": "ipython",
    "version": 3
   },
   "file_extension": ".py",
   "mimetype": "text/x-python",
   "name": "python",
   "nbconvert_exporter": "python",
   "pygments_lexer": "ipython3",
   "version": "3.8.2"
  }
 },
 "nbformat": 4,
 "nbformat_minor": 4
}
